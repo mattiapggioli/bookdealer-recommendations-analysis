{
 "cells": [
  {
   "attachments": {},
   "cell_type": "markdown",
   "metadata": {},
   "source": [
    "# Data Preparation"
   ]
  },
  {
   "cell_type": "code",
   "execution_count": 1,
   "metadata": {},
   "outputs": [],
   "source": [
    "%matplotlib inline\n",
    "import pandas as pd\n",
    "import numpy as np\n",
    "from matplotlib import pyplot as plt\n",
    "import seaborn as sns"
   ]
  },
  {
   "cell_type": "code",
   "execution_count": 2,
   "metadata": {},
   "outputs": [],
   "source": [
    "df = pd.read_csv('../data/bookdealer_recommendations.csv')"
   ]
  },
  {
   "cell_type": "code",
   "execution_count": 3,
   "metadata": {},
   "outputs": [
    {
     "data": {
      "text/html": [
       "<div>\n",
       "<style scoped>\n",
       "    .dataframe tbody tr th:only-of-type {\n",
       "        vertical-align: middle;\n",
       "    }\n",
       "\n",
       "    .dataframe tbody tr th {\n",
       "        vertical-align: top;\n",
       "    }\n",
       "\n",
       "    .dataframe thead th {\n",
       "        text-align: right;\n",
       "    }\n",
       "</style>\n",
       "<table border=\"1\" class=\"dataframe\">\n",
       "  <thead>\n",
       "    <tr style=\"text-align: right;\">\n",
       "      <th></th>\n",
       "      <th>title</th>\n",
       "      <th>price</th>\n",
       "      <th>author</th>\n",
       "      <th>publisher</th>\n",
       "      <th>isbn</th>\n",
       "      <th>category</th>\n",
       "      <th>translator</th>\n",
       "      <th>pages</th>\n",
       "      <th>date</th>\n",
       "      <th>series</th>\n",
       "      <th>recommendations</th>\n",
       "      <th>bookstores</th>\n",
       "      <th>synopsis</th>\n",
       "    </tr>\n",
       "  </thead>\n",
       "  <tbody>\n",
       "    <tr>\n",
       "      <th>0</th>\n",
       "      <td>Cambiare l'acqua ai fiori</td>\n",
       "      <td>18</td>\n",
       "      <td>Perrin Valérie</td>\n",
       "      <td>E/O</td>\n",
       "      <td>9788833570990</td>\n",
       "      <td>Letterature straniere: testi</td>\n",
       "      <td>Bracci Testasecca A.</td>\n",
       "      <td>476</td>\n",
       "      <td>10/07/2019</td>\n",
       "      <td>Dal mondo</td>\n",
       "      <td>63.0</td>\n",
       "      <td>81/libreria-tasso, 60/a-tutto-libro, 55/libris...</td>\n",
       "      <td>\\nTab Article\\nViolette Toussaint è guardiana ...</td>\n",
       "    </tr>\n",
       "    <tr>\n",
       "      <th>1</th>\n",
       "      <td>Ragazza, donna, altro</td>\n",
       "      <td>20</td>\n",
       "      <td>Evaristo Bernardine</td>\n",
       "      <td>Sur</td>\n",
       "      <td>9788869982279</td>\n",
       "      <td>Letterature straniere: testi</td>\n",
       "      <td>Testa M.</td>\n",
       "      <td>520</td>\n",
       "      <td>11/11/2020</td>\n",
       "      <td>BigSur</td>\n",
       "      <td>61.0</td>\n",
       "      <td>39/la-confraternita-delluva-libreria-indipende...</td>\n",
       "      <td>\\nTab Article\\nÈ una grande serata per Amma: u...</td>\n",
       "    </tr>\n",
       "    <tr>\n",
       "      <th>2</th>\n",
       "      <td>L'Ickabog</td>\n",
       "      <td>19</td>\n",
       "      <td>Rowling J. K.</td>\n",
       "      <td>Salani</td>\n",
       "      <td>9788831006705</td>\n",
       "      <td>Letteratura per ragazzi</td>\n",
       "      <td>Daniele V.</td>\n",
       "      <td>320</td>\n",
       "      <td>10/11/2020</td>\n",
       "      <td>NaN</td>\n",
       "      <td>44.0</td>\n",
       "      <td>168/magia-del-fumetto, 486/lotta-libreria, 306...</td>\n",
       "      <td>\\nTab Article\\nC'era una volta un regno chiama...</td>\n",
       "    </tr>\n",
       "    <tr>\n",
       "      <th>3</th>\n",
       "      <td>Borgo Sud</td>\n",
       "      <td>18</td>\n",
       "      <td>Di Pietrantonio Donatella</td>\n",
       "      <td>Einaudi</td>\n",
       "      <td>9788806244781</td>\n",
       "      <td>Letteratura italiana: testi</td>\n",
       "      <td>NaN</td>\n",
       "      <td>168</td>\n",
       "      <td>03/11/2020</td>\n",
       "      <td>Supercoralli</td>\n",
       "      <td>36.0</td>\n",
       "      <td>285/libreria-fogola-pisa, 512/libreria-di-donn...</td>\n",
       "      <td>\\nTab Article\\nÈ il momento più buio della not...</td>\n",
       "    </tr>\n",
       "    <tr>\n",
       "      <th>4</th>\n",
       "      <td>Dante</td>\n",
       "      <td>20</td>\n",
       "      <td>Barbero Alessandro</td>\n",
       "      <td>Laterza</td>\n",
       "      <td>9788858141649</td>\n",
       "      <td>Letteratura italiana: critica</td>\n",
       "      <td>NaN</td>\n",
       "      <td>361</td>\n",
       "      <td>08/10/2020</td>\n",
       "      <td>I Robinson</td>\n",
       "      <td>36.0</td>\n",
       "      <td>51/il-ponte-sulla-dora, 116/lettera22, 433/lib...</td>\n",
       "      <td>\\nTab Article\\nDante è l'uomo su cui, per la f...</td>\n",
       "    </tr>\n",
       "  </tbody>\n",
       "</table>\n",
       "</div>"
      ],
      "text/plain": [
       "                       title  price                     author publisher  \\\n",
       "0  Cambiare l'acqua ai fiori     18             Perrin Valérie       E/O   \n",
       "1      Ragazza, donna, altro     20        Evaristo Bernardine       Sur   \n",
       "2                  L'Ickabog     19              Rowling J. K.    Salani   \n",
       "3                  Borgo Sud     18  Di Pietrantonio Donatella   Einaudi   \n",
       "4                      Dante     20         Barbero Alessandro   Laterza   \n",
       "\n",
       "            isbn                       category            translator pages  \\\n",
       "0  9788833570990   Letterature straniere: testi  Bracci Testasecca A.   476   \n",
       "1  9788869982279   Letterature straniere: testi              Testa M.   520   \n",
       "2  9788831006705        Letteratura per ragazzi            Daniele V.   320   \n",
       "3  9788806244781    Letteratura italiana: testi                   NaN   168   \n",
       "4  9788858141649  Letteratura italiana: critica                   NaN   361   \n",
       "\n",
       "         date        series  recommendations  \\\n",
       "0  10/07/2019     Dal mondo             63.0   \n",
       "1  11/11/2020        BigSur             61.0   \n",
       "2  10/11/2020           NaN             44.0   \n",
       "3  03/11/2020  Supercoralli             36.0   \n",
       "4  08/10/2020    I Robinson             36.0   \n",
       "\n",
       "                                          bookstores  \\\n",
       "0  81/libreria-tasso, 60/a-tutto-libro, 55/libris...   \n",
       "1  39/la-confraternita-delluva-libreria-indipende...   \n",
       "2  168/magia-del-fumetto, 486/lotta-libreria, 306...   \n",
       "3  285/libreria-fogola-pisa, 512/libreria-di-donn...   \n",
       "4  51/il-ponte-sulla-dora, 116/lettera22, 433/lib...   \n",
       "\n",
       "                                            synopsis  \n",
       "0  \\nTab Article\\nViolette Toussaint è guardiana ...  \n",
       "1  \\nTab Article\\nÈ una grande serata per Amma: u...  \n",
       "2  \\nTab Article\\nC'era una volta un regno chiama...  \n",
       "3  \\nTab Article\\nÈ il momento più buio della not...  \n",
       "4  \\nTab Article\\nDante è l'uomo su cui, per la f...  "
      ]
     },
     "execution_count": 3,
     "metadata": {},
     "output_type": "execute_result"
    }
   ],
   "source": [
    "df.head()"
   ]
  },
  {
   "cell_type": "code",
   "execution_count": 4,
   "metadata": {},
   "outputs": [
    {
     "name": "stdout",
     "output_type": "stream",
     "text": [
      "<class 'pandas.core.frame.DataFrame'>\n",
      "RangeIndex: 21014 entries, 0 to 21013\n",
      "Data columns (total 13 columns):\n",
      " #   Column           Non-Null Count  Dtype  \n",
      "---  ------           --------------  -----  \n",
      " 0   title            21014 non-null  object \n",
      " 1   price            21014 non-null  int64  \n",
      " 2   author           19732 non-null  object \n",
      " 3   publisher        21014 non-null  object \n",
      " 4   isbn             21014 non-null  int64  \n",
      " 5   category         20995 non-null  object \n",
      " 6   translator       7648 non-null   object \n",
      " 7   pages            20021 non-null  object \n",
      " 8   date             21014 non-null  object \n",
      " 9   series           16087 non-null  object \n",
      " 10  recommendations  20905 non-null  float64\n",
      " 11  bookstores       20905 non-null  object \n",
      " 12  synopsis         20061 non-null  object \n",
      "dtypes: float64(1), int64(2), object(10)\n",
      "memory usage: 2.1+ MB\n"
     ]
    }
   ],
   "source": [
    "df.info()"
   ]
  },
  {
   "attachments": {},
   "cell_type": "markdown",
   "metadata": {},
   "source": [
    "## Missing Values"
   ]
  },
  {
   "cell_type": "code",
   "execution_count": 5,
   "metadata": {},
   "outputs": [
    {
     "data": {
      "text/plain": [
       "title                  0\n",
       "price                  0\n",
       "author              1282\n",
       "publisher              0\n",
       "isbn                   0\n",
       "category              19\n",
       "translator         13366\n",
       "pages                993\n",
       "date                   0\n",
       "series              4927\n",
       "recommendations      109\n",
       "bookstores           109\n",
       "synopsis             953\n",
       "dtype: int64"
      ]
     },
     "execution_count": 5,
     "metadata": {},
     "output_type": "execute_result"
    }
   ],
   "source": [
    "df.isna().sum()"
   ]
  },
  {
   "cell_type": "code",
   "execution_count": 6,
   "metadata": {},
   "outputs": [],
   "source": [
    "df.drop(columns=['author','title','translator','series'], inplace=True)"
   ]
  },
  {
   "cell_type": "code",
   "execution_count": 7,
   "metadata": {},
   "outputs": [],
   "source": [
    "df.dropna(subset=['category', 'bookstores', 'recommendations', 'synopsis'], inplace=True)"
   ]
  },
  {
   "cell_type": "code",
   "execution_count": 8,
   "metadata": {},
   "outputs": [],
   "source": [
    "df['pages'] = pd.to_numeric(df['pages'],errors='coerce')\n",
    "df.fillna({'pages': df['pages'].median()}, inplace=True)"
   ]
  },
  {
   "cell_type": "code",
   "execution_count": 9,
   "metadata": {},
   "outputs": [
    {
     "name": "stdout",
     "output_type": "stream",
     "text": [
      "<class 'pandas.core.frame.DataFrame'>\n",
      "Int64Index: 19945 entries, 0 to 21013\n",
      "Data columns (total 9 columns):\n",
      " #   Column           Non-Null Count  Dtype  \n",
      "---  ------           --------------  -----  \n",
      " 0   price            19945 non-null  int64  \n",
      " 1   publisher        19945 non-null  object \n",
      " 2   isbn             19945 non-null  int64  \n",
      " 3   category         19945 non-null  object \n",
      " 4   pages            19945 non-null  float64\n",
      " 5   date             19945 non-null  object \n",
      " 6   recommendations  19945 non-null  float64\n",
      " 7   bookstores       19945 non-null  object \n",
      " 8   synopsis         19945 non-null  object \n",
      "dtypes: float64(2), int64(2), object(5)\n",
      "memory usage: 1.5+ MB\n"
     ]
    }
   ],
   "source": [
    "df.info()"
   ]
  },
  {
   "cell_type": "code",
   "execution_count": 10,
   "metadata": {},
   "outputs": [],
   "source": [
    "df['date'] = pd.to_datetime(df['date'], format='%d/%m/%Y')\n",
    "df['recommendations'] = df['recommendations'].astype(int)\n",
    "df['pages'] = pd.to_numeric(df['pages'])"
   ]
  },
  {
   "attachments": {},
   "cell_type": "markdown",
   "metadata": {},
   "source": [
    "## Basic Statistics"
   ]
  },
  {
   "cell_type": "code",
   "execution_count": 11,
   "metadata": {},
   "outputs": [
    {
     "data": {
      "text/html": [
       "<div>\n",
       "<style scoped>\n",
       "    .dataframe tbody tr th:only-of-type {\n",
       "        vertical-align: middle;\n",
       "    }\n",
       "\n",
       "    .dataframe tbody tr th {\n",
       "        vertical-align: top;\n",
       "    }\n",
       "\n",
       "    .dataframe thead th {\n",
       "        text-align: right;\n",
       "    }\n",
       "</style>\n",
       "<table border=\"1\" class=\"dataframe\">\n",
       "  <thead>\n",
       "    <tr style=\"text-align: right;\">\n",
       "      <th></th>\n",
       "      <th>price</th>\n",
       "      <th>isbn</th>\n",
       "      <th>pages</th>\n",
       "      <th>recommendations</th>\n",
       "    </tr>\n",
       "  </thead>\n",
       "  <tbody>\n",
       "    <tr>\n",
       "      <th>count</th>\n",
       "      <td>19945.000000</td>\n",
       "      <td>1.994500e+04</td>\n",
       "      <td>19945.000000</td>\n",
       "      <td>19945.000000</td>\n",
       "    </tr>\n",
       "    <tr>\n",
       "      <th>mean</th>\n",
       "      <td>16.414390</td>\n",
       "      <td>9.788878e+12</td>\n",
       "      <td>234.190925</td>\n",
       "      <td>1.579093</td>\n",
       "    </tr>\n",
       "    <tr>\n",
       "      <th>std</th>\n",
       "      <td>10.944404</td>\n",
       "      <td>5.584080e+08</td>\n",
       "      <td>234.481641</td>\n",
       "      <td>1.877590</td>\n",
       "    </tr>\n",
       "    <tr>\n",
       "      <th>min</th>\n",
       "      <td>0.000000</td>\n",
       "      <td>9.780715e+12</td>\n",
       "      <td>1.000000</td>\n",
       "      <td>1.000000</td>\n",
       "    </tr>\n",
       "    <tr>\n",
       "      <th>25%</th>\n",
       "      <td>12.000000</td>\n",
       "      <td>9.788830e+12</td>\n",
       "      <td>112.000000</td>\n",
       "      <td>1.000000</td>\n",
       "    </tr>\n",
       "    <tr>\n",
       "      <th>50%</th>\n",
       "      <td>15.000000</td>\n",
       "      <td>9.788857e+12</td>\n",
       "      <td>192.000000</td>\n",
       "      <td>1.000000</td>\n",
       "    </tr>\n",
       "    <tr>\n",
       "      <th>75%</th>\n",
       "      <td>18.000000</td>\n",
       "      <td>9.788879e+12</td>\n",
       "      <td>292.000000</td>\n",
       "      <td>1.000000</td>\n",
       "    </tr>\n",
       "    <tr>\n",
       "      <th>max</th>\n",
       "      <td>520.000000</td>\n",
       "      <td>9.798573e+12</td>\n",
       "      <td>7084.000000</td>\n",
       "      <td>63.000000</td>\n",
       "    </tr>\n",
       "  </tbody>\n",
       "</table>\n",
       "</div>"
      ],
      "text/plain": [
       "              price          isbn         pages  recommendations\n",
       "count  19945.000000  1.994500e+04  19945.000000     19945.000000\n",
       "mean      16.414390  9.788878e+12    234.190925         1.579093\n",
       "std       10.944404  5.584080e+08    234.481641         1.877590\n",
       "min        0.000000  9.780715e+12      1.000000         1.000000\n",
       "25%       12.000000  9.788830e+12    112.000000         1.000000\n",
       "50%       15.000000  9.788857e+12    192.000000         1.000000\n",
       "75%       18.000000  9.788879e+12    292.000000         1.000000\n",
       "max      520.000000  9.798573e+12   7084.000000        63.000000"
      ]
     },
     "execution_count": 11,
     "metadata": {},
     "output_type": "execute_result"
    }
   ],
   "source": [
    "df.describe()"
   ]
  },
  {
   "cell_type": "code",
   "execution_count": 12,
   "metadata": {},
   "outputs": [
    {
     "data": {
      "text/html": [
       "<div>\n",
       "<style scoped>\n",
       "    .dataframe tbody tr th:only-of-type {\n",
       "        vertical-align: middle;\n",
       "    }\n",
       "\n",
       "    .dataframe tbody tr th {\n",
       "        vertical-align: top;\n",
       "    }\n",
       "\n",
       "    .dataframe thead th {\n",
       "        text-align: right;\n",
       "    }\n",
       "</style>\n",
       "<table border=\"1\" class=\"dataframe\">\n",
       "  <thead>\n",
       "    <tr style=\"text-align: right;\">\n",
       "      <th></th>\n",
       "      <th>price</th>\n",
       "      <th>isbn</th>\n",
       "      <th>pages</th>\n",
       "      <th>recommendations</th>\n",
       "    </tr>\n",
       "  </thead>\n",
       "  <tbody>\n",
       "    <tr>\n",
       "      <th>price</th>\n",
       "      <td>1.000000</td>\n",
       "      <td>-0.018544</td>\n",
       "      <td>0.411775</td>\n",
       "      <td>0.007805</td>\n",
       "    </tr>\n",
       "    <tr>\n",
       "      <th>isbn</th>\n",
       "      <td>-0.018544</td>\n",
       "      <td>1.000000</td>\n",
       "      <td>-0.009521</td>\n",
       "      <td>0.021364</td>\n",
       "    </tr>\n",
       "    <tr>\n",
       "      <th>pages</th>\n",
       "      <td>0.411775</td>\n",
       "      <td>-0.009521</td>\n",
       "      <td>1.000000</td>\n",
       "      <td>0.015383</td>\n",
       "    </tr>\n",
       "    <tr>\n",
       "      <th>recommendations</th>\n",
       "      <td>0.007805</td>\n",
       "      <td>0.021364</td>\n",
       "      <td>0.015383</td>\n",
       "      <td>1.000000</td>\n",
       "    </tr>\n",
       "  </tbody>\n",
       "</table>\n",
       "</div>"
      ],
      "text/plain": [
       "                    price      isbn     pages  recommendations\n",
       "price            1.000000 -0.018544  0.411775         0.007805\n",
       "isbn            -0.018544  1.000000 -0.009521         0.021364\n",
       "pages            0.411775 -0.009521  1.000000         0.015383\n",
       "recommendations  0.007805  0.021364  0.015383         1.000000"
      ]
     },
     "execution_count": 12,
     "metadata": {},
     "output_type": "execute_result"
    }
   ],
   "source": [
    "df.corr(numeric_only=True)"
   ]
  },
  {
   "attachments": {},
   "cell_type": "markdown",
   "metadata": {},
   "source": [
    "## Recommendations and Bookstores "
   ]
  },
  {
   "attachments": {},
   "cell_type": "markdown",
   "metadata": {},
   "source": [
    "These 2 variables are strictly related, since _bookstore_ column is the list of bookstores that recommends that particular book."
   ]
  },
  {
   "cell_type": "code",
   "execution_count": 13,
   "metadata": {},
   "outputs": [
    {
     "data": {
      "image/png": "[encoded data removed]",
      "text/plain": [
       "<Figure size 640x480 with 1 Axes>"
      ]
     },
     "metadata": {},
     "output_type": "display_data"
    }
   ],
   "source": [
    "fig, ax = plt.subplots()\n",
    "ax = sns.histplot(data=df, x='recommendations')\n",
    "ax.set_xlabel('Recommendations')\n",
    "ax.set_ylabel('Books')\n",
    "ax.set_yscale('log')\n",
    "ax.set_title('Books by recommendations received')\n",
    "plt.show()"
   ]
  },
  {
   "cell_type": "code",
   "execution_count": 14,
   "metadata": {},
   "outputs": [],
   "source": [
    "# Create nested list with bookstore list for every book\n",
    "bookstores_by_book = [bookstores_in_book.split(', ') for bookstores_in_book in df['bookstores']]"
   ]
  },
  {
   "cell_type": "code",
   "execution_count": 15,
   "metadata": {},
   "outputs": [],
   "source": [
    "# Get bookstore list\n",
    "bookstores = list(set(bookstore for bookstores_in_book in bookstores_by_book \n",
    "    for bookstore in bookstores_in_book))"
   ]
  },
  {
   "cell_type": "code",
   "execution_count": 16,
   "metadata": {},
   "outputs": [],
   "source": [
    "# Count recommendations done by bookstore\n",
    "recommendations_by_bookstore = [sum(bookstores_in_book.count(bookstore)\n",
    "    for bookstores_in_book in bookstores_by_book)\n",
    "    for bookstore in bookstores]"
   ]
  },
  {
   "cell_type": "code",
   "execution_count": 17,
   "metadata": {},
   "outputs": [
    {
     "name": "stdout",
     "output_type": "stream",
     "text": [
      "Number of local bookstores: 527\n"
     ]
    },
    {
     "data": {
      "image/png": "[encoded data removed]",
      "text/plain": [
       "<Figure size 640x480 with 1 Axes>"
      ]
     },
     "metadata": {},
     "output_type": "display_data"
    }
   ],
   "source": [
    "print(f'Number of local bookstores: {len(bookstores)}')\n",
    "\n",
    "fig, ax = plt.subplots()\n",
    "ax = sns.histplot(recommendations_by_bookstore, bins=30)\n",
    "ax.set_xlabel('Books recommended')\n",
    "ax.set_ylabel('Bookstores')\n",
    "ax.set_yscale('log')\n",
    "ax.set_title('Bookdealers by books recommendend')\n",
    "plt.show()"
   ]
  },
  {
   "attachments": {},
   "cell_type": "markdown",
   "metadata": {},
   "source": [
    "As for recommendations and bookstores, we are dealing with power law distributions. The tails of the two distributions look anomalous, but outlier detection may not be strictly necessary for those columns. However, we should consider removing books that were recommended only once by booksellers who made only that recommendation:"
   ]
  },
  {
   "cell_type": "code",
   "execution_count": 18,
   "metadata": {},
   "outputs": [],
   "source": [
    "# Get bookstores that recommended only 1 book\n",
    "bookstores1 = [bookstore[0] for bookstore in list(zip(bookstores, recommendations_by_bookstore)) if bookstore[1] ==1]"
   ]
  },
  {
   "cell_type": "code",
   "execution_count": 19,
   "metadata": {},
   "outputs": [],
   "source": [
    "rows2remove = df[df['bookstores'].isin(bookstores1) & df['recommendations'] ==1].index\n",
    "\n",
    "df.drop(index=rows2remove, inplace=True)"
   ]
  },
  {
   "attachments": {},
   "cell_type": "markdown",
   "metadata": {},
   "source": [
    "## Category"
   ]
  },
  {
   "attachments": {},
   "cell_type": "markdown",
   "metadata": {},
   "source": [
    "This column is pretty messy. Infrequent books are non-fiction books. By performing clustering or topic modeling, we could merge them consistently and provide better categorization."
   ]
  },
  {
   "cell_type": "code",
   "execution_count": 20,
   "metadata": {},
   "outputs": [
    {
     "data": {
      "text/plain": [
       "Letteratura per ragazzi              6030\n",
       "Letterature straniere: testi         3891\n",
       "Letteratura italiana: testi          3157\n",
       "Disegno, arti decorative e minori     821\n",
       "Scienze sociali                       549\n",
       "                                     ... \n",
       "Paleontologia. paleozoologia            1\n",
       "Manifatture per specifici usi           1\n",
       "Lingue germaniche. tedesco              1\n",
       "Lingue romanze. francese                1\n",
       "Chiesa locale e ordini religiosi        1\n",
       "Name: category, Length: 88, dtype: int64"
      ]
     },
     "execution_count": 20,
     "metadata": {},
     "output_type": "execute_result"
    }
   ],
   "source": [
    "df['category'].value_counts()"
   ]
  },
  {
   "cell_type": "code",
   "execution_count": 21,
   "metadata": {},
   "outputs": [
    {
     "data": {
      "text/plain": [
       "Letteratura per ragazzi                6030\n",
       "Letterature straniere: testi           3891\n",
       "Letteratura italiana: testi            3157\n",
       "Disegno, arti decorative e minori       821\n",
       "Scienze sociali                         549\n",
       "Geografia generale. viaggi              462\n",
       "Arti ricreative. spettacolo. sport      418\n",
       "Diritto                                 331\n",
       "Problemi e servizi sociali              327\n",
       "Scienza politica                        317\n",
       "Psicologia                              307\n",
       "Storia d'europa                         285\n",
       "Economia domestica e vita familiare     253\n",
       "Filosofia occidentale moderna           237\n",
       "Musica                                  203\n",
       "Educazione                              167\n",
       "Fotografia                              152\n",
       "Letteratura italiana: critica           115\n",
       "Arti                                    102\n",
       "Economia                                 97\n",
       "Name: category, dtype: int64"
      ]
     },
     "execution_count": 21,
     "metadata": {},
     "output_type": "execute_result"
    }
   ],
   "source": [
    "df['category'].value_counts()[:20]"
   ]
  },
  {
   "cell_type": "code",
   "execution_count": 22,
   "metadata": {},
   "outputs": [
    {
     "data": {
      "text/plain": [
       "array(['Letterature straniere: testi', 'Letteratura per ragazzi',\n",
       "       'Letteratura italiana: testi', 'Letteratura italiana: critica',\n",
       "       'Disegno, arti decorative e minori', 'Fisica', 'Scienze sociali',\n",
       "       'Problemi e servizi sociali', 'Scienza politica',\n",
       "       'Economia domestica e vita familiare', 'Etica',\n",
       "       'Scienze zoologiche', 'Storia del mondo antico. archeologia',\n",
       "       'Scienze della terra', 'Scienze botaniche', 'Scienze della vita',\n",
       "       'Geografia e storia', 'Letteratura greca e latina: critica',\n",
       "       'Arti ricreative. spettacolo. sport', 'Fotografia',\n",
       "       'Geografia generale. viaggi', 'Lingua italiana, lingue ladine',\n",
       "       'Letteratura', 'Letterature straniere: critica',\n",
       "       'Altre religioni. religione comparata', 'Psicologia', 'Musica',\n",
       "       'Architettura', 'Pittura', \"Storia d'europa\",\n",
       "       'Lingua inglese e anglosassone', 'Giornalismo, editoria, giornali',\n",
       "       'Educazione', 'Arti', 'Agricoltura e tecnologie connesse',\n",
       "       'Filosofia occidentale moderna', 'Economia',\n",
       "       \"Storia dell'america settentrionale\", 'Scienze pure',\n",
       "       'Linguistica', 'Filosofia antica, medievale, orientale',\n",
       "       'Matematica', 'Usi e costumi, etichetta, folclore',\n",
       "       'Fenomeni e tecniche paranormali',\n",
       "       'Filosofia e discipline connesse', 'Scienze mediche. medicina',\n",
       "       'Bibbia', 'Gestione e servizi ausiliari', 'Biografia e genealogia',\n",
       "       'Lingue elleniche. greco classico',\n",
       "       'Letteratura greca e latina: testi',\n",
       "       'Teologia sociale ed ecclesiastica',\n",
       "       \"Storia dell'america meridionale\", 'Religione', 'Diritto',\n",
       "       'Amministrazione pubblica', 'Arti grafiche. stampe',\n",
       "       'Arti plastiche. scultura', 'Ingegneria e attivita affini',\n",
       "       \"Storia d'asia\", 'Storia e geografia della chiesa',\n",
       "       'Urbanistica e arte del paesaggio', 'Teologia cristiana',\n",
       "       'Lingue italiche. latino', 'Astronomia e scienze connesse',\n",
       "       'Teologia morale cristiana', 'Denominazioni e sette cristiane',\n",
       "       'Metafisica', \"Storia d'africa\", 'Lingue spagnola e portoghese',\n",
       "       'Gnoseologia, causalita, genere umano', 'Libro. elaborazione dati',\n",
       "       'Statistica', 'Altre lingue', 'Biblioteconomia. documentazione',\n",
       "       'Organizzazioni generali. museologia', 'Religione naturale',\n",
       "       'Logica', 'Linguaggio', 'Commercio', 'Chimica e scienze connesse',\n",
       "       'Enciclopedie generali', 'Paleontologia. paleozoologia',\n",
       "       'Specifiche posizioni filosofiche',\n",
       "       'Manifatture per specifici usi', 'Lingue germaniche. tedesco',\n",
       "       'Lingue romanze. francese', 'Chiesa locale e ordini religiosi'],\n",
       "      dtype=object)"
      ]
     },
     "execution_count": 22,
     "metadata": {},
     "output_type": "execute_result"
    }
   ],
   "source": [
    "df['category'].unique()"
   ]
  },
  {
   "cell_type": "code",
   "execution_count": 23,
   "metadata": {},
   "outputs": [],
   "source": [
    "fiction_labels = ['Letteratura per ragazzi', 'Letterature straniere: testi', 'Letteratura italiana: testi']\n",
    "\n",
    "df['fiction'] = [1 if category in fiction_labels else 0 for category in df['category']]"
   ]
  },
  {
   "cell_type": "code",
   "execution_count": 24,
   "metadata": {},
   "outputs": [
    {
     "data": {
      "text/plain": [
       "1    13078\n",
       "0     6851\n",
       "Name: fiction, dtype: int64"
      ]
     },
     "execution_count": 24,
     "metadata": {},
     "output_type": "execute_result"
    }
   ],
   "source": [
    "df['fiction'].value_counts()"
   ]
  },
  {
   "attachments": {},
   "cell_type": "markdown",
   "metadata": {},
   "source": [
    "## Publisher"
   ]
  },
  {
   "attachments": {},
   "cell_type": "markdown",
   "metadata": {},
   "source": [
    "The distribution of publishers follows Zipf's law:"
   ]
  },
  {
   "cell_type": "code",
   "execution_count": 25,
   "metadata": {},
   "outputs": [
    {
     "name": "stdout",
     "output_type": "stream",
     "text": [
      "Number of publishers: 1177\n"
     ]
    },
    {
     "data": {
      "image/png": "[encoded data removed]",
      "text/plain": [
       "<Figure size 640x480 with 1 Axes>"
      ]
     },
     "metadata": {},
     "output_type": "display_data"
    }
   ],
   "source": [
    "print(f'Number of publishers: {len(df[\"publisher\"].unique())}')\n",
    "\n",
    "publisher_counts = df['publisher'].value_counts()\n",
    "\n",
    "fig, ax = plt.subplots()\n",
    "ax = sns.lineplot(data=publisher_counts, x=publisher_counts.index, y=publisher_counts.values)\n",
    "ax.set_xticks([])\n",
    "ax.set_xlabel('Publisher by rank')\n",
    "ax.set_ylabel('Count')\n",
    "ax.set_yscale('log')\n",
    "ax.set_title('Publisher by recommendations received')\n",
    "plt.show()"
   ]
  },
  {
   "cell_type": "code",
   "execution_count": 26,
   "metadata": {},
   "outputs": [
    {
     "data": {
      "text/plain": [
       "Einaudi                       912\n",
       "Mondadori                     909\n",
       "Feltrinelli                   677\n",
       "Adelphi                       429\n",
       "Rizzoli                       372\n",
       "Piemme                        300\n",
       "Salani                        273\n",
       "Sassi                         260\n",
       "Laterza                       258\n",
       "Bompiani                      255\n",
       "Newton Compton Editori        245\n",
       "Babalibri                     231\n",
       "Sellerio Editore Palermo      220\n",
       "Il Castoro                    214\n",
       "Giunti Editore                213\n",
       "Terre di Mezzo                199\n",
       "Gribaudo                      196\n",
       "Edizioni Giuridiche Simone    194\n",
       "Garzanti                      183\n",
       "Il Saggiatore                 169\n",
       "Name: publisher, dtype: int64"
      ]
     },
     "execution_count": 26,
     "metadata": {},
     "output_type": "execute_result"
    }
   ],
   "source": [
    "df['publisher'].value_counts()[:20]"
   ]
  },
  {
   "attachments": {},
   "cell_type": "markdown",
   "metadata": {},
   "source": [
    "## Price and Pages"
   ]
  },
  {
   "cell_type": "code",
   "execution_count": 27,
   "metadata": {},
   "outputs": [
    {
     "data": {
      "image/png": "[encoded data removed]",
      "text/plain": [
       "<Figure size 640x480 with 2 Axes>"
      ]
     },
     "metadata": {},
     "output_type": "display_data"
    }
   ],
   "source": [
    "fig, (ax1, ax2) = plt.subplots(2)\n",
    "\n",
    "sns.boxplot(data=df, y='price', x='fiction', ax=ax1)\n",
    "ax1.set_ylabel('Price')\n",
    "ax1.set_yscale('log')\n",
    "ax1.set_title('Books by price')\n",
    "ax1.set(xticklabels=[])\n",
    "ax1.set(xlabel=None) \n",
    "\n",
    "\n",
    "handles, _ = ax.get_legend_handles_labels()          \n",
    "ax1.legend(handles, ['Fiction', 'Non-Fiction'], loc=\"upper right\")\n",
    "\n",
    "sns.boxplot(data=df, y='pages', x='fiction', ax=ax2)\n",
    "ax2.set_ylabel('Pages')\n",
    "ax2.set_yscale('log')\n",
    "ax2.set_title('Books by Pages')\n",
    "ax2.set_xticklabels(['Fiction', 'Non-Fiction'])\n",
    "ax2.set(xticklabels=[])\n",
    "ax2.set(xlabel=None) \n",
    "plt.show()\n"
   ]
  },
  {
   "cell_type": "code",
   "execution_count": 28,
   "metadata": {},
   "outputs": [
    {
     "data": {
      "image/png": "[encoded data removed]",
      "text/plain": [
       "<Figure size 640x480 with 1 Axes>"
      ]
     },
     "metadata": {},
     "output_type": "display_data"
    }
   ],
   "source": [
    "are_outliers = 'price > 300 or pages > 3000'\n",
    "are_inliers = 'price < 300 and pages < 3000'\n",
    "\n",
    "fig, ax = plt.subplots()\n",
    "ax = sns.scatterplot(data=df.query(are_inliers), x='pages', y='price', color='gray')\n",
    "ax = sns.regplot(df.query(are_inliers), x='pages', y='price', scatter=False, color='red')\n",
    "ax = sns.scatterplot(data=df.query(are_outliers), x='pages', y='price', hue='category')\n",
    "ax.set_xlabel('Pages')\n",
    "ax.set_ylabel('Price')\n",
    "ax.set_title('Pages vs Price')\n",
    "plt.show()"
   ]
  },
  {
   "cell_type": "code",
   "execution_count": 29,
   "metadata": {},
   "outputs": [
    {
     "name": "stdout",
     "output_type": "stream",
     "text": [
      "Correlation between pages and price 0.4565337655802477\n"
     ]
    }
   ],
   "source": [
    "pages_price_corr = df.query(are_inliers)['pages'].corr(df.query(are_inliers)['price'])\n",
    "\n",
    "print(f'Correlation between pages and price {pages_price_corr}')"
   ]
  },
  {
   "attachments": {},
   "cell_type": "markdown",
   "metadata": {},
   "source": [
    "The dataset is confirmed to be very heterogeneous. It isn't easy to detect outliers/anomalies properly because it depends on what factors we consider and the tasks we will do."
   ]
  },
  {
   "attachments": {},
   "cell_type": "markdown",
   "metadata": {},
   "source": [
    "## Date"
   ]
  },
  {
   "cell_type": "code",
   "execution_count": 30,
   "metadata": {},
   "outputs": [],
   "source": [
    "df['year'] = pd.DatetimeIndex(df['date']).year"
   ]
  },
  {
   "cell_type": "code",
   "execution_count": 31,
   "metadata": {},
   "outputs": [
    {
     "data": {
      "text/html": [
       "<div>\n",
       "<style scoped>\n",
       "    .dataframe tbody tr th:only-of-type {\n",
       "        vertical-align: middle;\n",
       "    }\n",
       "\n",
       "    .dataframe tbody tr th {\n",
       "        vertical-align: top;\n",
       "    }\n",
       "\n",
       "    .dataframe thead th {\n",
       "        text-align: right;\n",
       "    }\n",
       "</style>\n",
       "<table border=\"1\" class=\"dataframe\">\n",
       "  <thead>\n",
       "    <tr style=\"text-align: right;\">\n",
       "      <th></th>\n",
       "      <th>price</th>\n",
       "      <th>publisher</th>\n",
       "      <th>isbn</th>\n",
       "      <th>category</th>\n",
       "      <th>pages</th>\n",
       "      <th>recommendations</th>\n",
       "      <th>bookstores</th>\n",
       "      <th>synopsis</th>\n",
       "      <th>fiction</th>\n",
       "      <th>year</th>\n",
       "    </tr>\n",
       "  </thead>\n",
       "  <tbody>\n",
       "    <tr>\n",
       "      <th>0</th>\n",
       "      <td>18</td>\n",
       "      <td>E/O</td>\n",
       "      <td>9788833570990</td>\n",
       "      <td>Letterature straniere: testi</td>\n",
       "      <td>476.0</td>\n",
       "      <td>63</td>\n",
       "      <td>81/libreria-tasso, 60/a-tutto-libro, 55/libris...</td>\n",
       "      <td>\\nTab Article\\nViolette Toussaint è guardiana ...</td>\n",
       "      <td>1</td>\n",
       "      <td>2019</td>\n",
       "    </tr>\n",
       "    <tr>\n",
       "      <th>1</th>\n",
       "      <td>20</td>\n",
       "      <td>Sur</td>\n",
       "      <td>9788869982279</td>\n",
       "      <td>Letterature straniere: testi</td>\n",
       "      <td>520.0</td>\n",
       "      <td>61</td>\n",
       "      <td>39/la-confraternita-delluva-libreria-indipende...</td>\n",
       "      <td>\\nTab Article\\nÈ una grande serata per Amma: u...</td>\n",
       "      <td>1</td>\n",
       "      <td>2020</td>\n",
       "    </tr>\n",
       "    <tr>\n",
       "      <th>2</th>\n",
       "      <td>19</td>\n",
       "      <td>Salani</td>\n",
       "      <td>9788831006705</td>\n",
       "      <td>Letteratura per ragazzi</td>\n",
       "      <td>320.0</td>\n",
       "      <td>44</td>\n",
       "      <td>168/magia-del-fumetto, 486/lotta-libreria, 306...</td>\n",
       "      <td>\\nTab Article\\nC'era una volta un regno chiama...</td>\n",
       "      <td>1</td>\n",
       "      <td>2020</td>\n",
       "    </tr>\n",
       "    <tr>\n",
       "      <th>3</th>\n",
       "      <td>18</td>\n",
       "      <td>Einaudi</td>\n",
       "      <td>9788806244781</td>\n",
       "      <td>Letteratura italiana: testi</td>\n",
       "      <td>168.0</td>\n",
       "      <td>36</td>\n",
       "      <td>285/libreria-fogola-pisa, 512/libreria-di-donn...</td>\n",
       "      <td>\\nTab Article\\nÈ il momento più buio della not...</td>\n",
       "      <td>1</td>\n",
       "      <td>2020</td>\n",
       "    </tr>\n",
       "    <tr>\n",
       "      <th>4</th>\n",
       "      <td>20</td>\n",
       "      <td>Laterza</td>\n",
       "      <td>9788858141649</td>\n",
       "      <td>Letteratura italiana: critica</td>\n",
       "      <td>361.0</td>\n",
       "      <td>36</td>\n",
       "      <td>51/il-ponte-sulla-dora, 116/lettera22, 433/lib...</td>\n",
       "      <td>\\nTab Article\\nDante è l'uomo su cui, per la f...</td>\n",
       "      <td>0</td>\n",
       "      <td>2020</td>\n",
       "    </tr>\n",
       "    <tr>\n",
       "      <th>...</th>\n",
       "      <td>...</td>\n",
       "      <td>...</td>\n",
       "      <td>...</td>\n",
       "      <td>...</td>\n",
       "      <td>...</td>\n",
       "      <td>...</td>\n",
       "      <td>...</td>\n",
       "      <td>...</td>\n",
       "      <td>...</td>\n",
       "      <td>...</td>\n",
       "    </tr>\n",
       "    <tr>\n",
       "      <th>21009</th>\n",
       "      <td>4</td>\n",
       "      <td>Tetra</td>\n",
       "      <td>9791280917003</td>\n",
       "      <td>Letteratura italiana: testi</td>\n",
       "      <td>84.0</td>\n",
       "      <td>1</td>\n",
       "      <td>41/libreria-zabarella</td>\n",
       "      <td>\\nTab Article\\nTrascinandosi tra abusi e osses...</td>\n",
       "      <td>1</td>\n",
       "      <td>2022</td>\n",
       "    </tr>\n",
       "    <tr>\n",
       "      <th>21010</th>\n",
       "      <td>4</td>\n",
       "      <td>Tetra</td>\n",
       "      <td>9791280917010</td>\n",
       "      <td>Letteratura italiana: testi</td>\n",
       "      <td>92.0</td>\n",
       "      <td>1</td>\n",
       "      <td>41/libreria-zabarella</td>\n",
       "      <td>\\nTab Article\\nA Mario, ex enfant prodige dell...</td>\n",
       "      <td>1</td>\n",
       "      <td>2022</td>\n",
       "    </tr>\n",
       "    <tr>\n",
       "      <th>21011</th>\n",
       "      <td>4</td>\n",
       "      <td>Tetra</td>\n",
       "      <td>9791280917027</td>\n",
       "      <td>Letteratura italiana: testi</td>\n",
       "      <td>84.0</td>\n",
       "      <td>1</td>\n",
       "      <td>41/libreria-zabarella</td>\n",
       "      <td>\\nTab Article\\nUn analista militare è addestra...</td>\n",
       "      <td>1</td>\n",
       "      <td>2022</td>\n",
       "    </tr>\n",
       "    <tr>\n",
       "      <th>21012</th>\n",
       "      <td>4</td>\n",
       "      <td>Tetra</td>\n",
       "      <td>9791280917034</td>\n",
       "      <td>Letteratura italiana: testi</td>\n",
       "      <td>72.0</td>\n",
       "      <td>1</td>\n",
       "      <td>41/libreria-zabarella</td>\n",
       "      <td>\\nTab Article\\nÈ la notte di Natale. Una bambi...</td>\n",
       "      <td>1</td>\n",
       "      <td>2022</td>\n",
       "    </tr>\n",
       "    <tr>\n",
       "      <th>21013</th>\n",
       "      <td>12</td>\n",
       "      <td>Bookdealer</td>\n",
       "      <td>9798573258515</td>\n",
       "      <td>Letteratura italiana: testi</td>\n",
       "      <td>240.0</td>\n",
       "      <td>1</td>\n",
       "      <td>39/la-confraternita-delluva-libreria-indipendente</td>\n",
       "      <td>\\nTab Article\\nLa nascita di questo libro fa p...</td>\n",
       "      <td>1</td>\n",
       "      <td>2020</td>\n",
       "    </tr>\n",
       "  </tbody>\n",
       "</table>\n",
       "<p>19929 rows × 10 columns</p>\n",
       "</div>"
      ],
      "text/plain": [
       "       price   publisher           isbn                       category  pages  \\\n",
       "0         18         E/O  9788833570990   Letterature straniere: testi  476.0   \n",
       "1         20         Sur  9788869982279   Letterature straniere: testi  520.0   \n",
       "2         19      Salani  9788831006705        Letteratura per ragazzi  320.0   \n",
       "3         18     Einaudi  9788806244781    Letteratura italiana: testi  168.0   \n",
       "4         20     Laterza  9788858141649  Letteratura italiana: critica  361.0   \n",
       "...      ...         ...            ...                            ...    ...   \n",
       "21009      4       Tetra  9791280917003    Letteratura italiana: testi   84.0   \n",
       "21010      4       Tetra  9791280917010    Letteratura italiana: testi   92.0   \n",
       "21011      4       Tetra  9791280917027    Letteratura italiana: testi   84.0   \n",
       "21012      4       Tetra  9791280917034    Letteratura italiana: testi   72.0   \n",
       "21013     12  Bookdealer  9798573258515    Letteratura italiana: testi  240.0   \n",
       "\n",
       "       recommendations                                         bookstores  \\\n",
       "0                   63  81/libreria-tasso, 60/a-tutto-libro, 55/libris...   \n",
       "1                   61  39/la-confraternita-delluva-libreria-indipende...   \n",
       "2                   44  168/magia-del-fumetto, 486/lotta-libreria, 306...   \n",
       "3                   36  285/libreria-fogola-pisa, 512/libreria-di-donn...   \n",
       "4                   36  51/il-ponte-sulla-dora, 116/lettera22, 433/lib...   \n",
       "...                ...                                                ...   \n",
       "21009                1                              41/libreria-zabarella   \n",
       "21010                1                              41/libreria-zabarella   \n",
       "21011                1                              41/libreria-zabarella   \n",
       "21012                1                              41/libreria-zabarella   \n",
       "21013                1  39/la-confraternita-delluva-libreria-indipendente   \n",
       "\n",
       "                                                synopsis  fiction  year  \n",
       "0      \\nTab Article\\nViolette Toussaint è guardiana ...        1  2019  \n",
       "1      \\nTab Article\\nÈ una grande serata per Amma: u...        1  2020  \n",
       "2      \\nTab Article\\nC'era una volta un regno chiama...        1  2020  \n",
       "3      \\nTab Article\\nÈ il momento più buio della not...        1  2020  \n",
       "4      \\nTab Article\\nDante è l'uomo su cui, per la f...        0  2020  \n",
       "...                                                  ...      ...   ...  \n",
       "21009  \\nTab Article\\nTrascinandosi tra abusi e osses...        1  2022  \n",
       "21010  \\nTab Article\\nA Mario, ex enfant prodige dell...        1  2022  \n",
       "21011  \\nTab Article\\nUn analista militare è addestra...        1  2022  \n",
       "21012  \\nTab Article\\nÈ la notte di Natale. Una bambi...        1  2022  \n",
       "21013  \\nTab Article\\nLa nascita di questo libro fa p...        1  2020  \n",
       "\n",
       "[19929 rows x 10 columns]"
      ]
     },
     "execution_count": 31,
     "metadata": {},
     "output_type": "execute_result"
    }
   ],
   "source": [
    "df.drop(columns=['date'])"
   ]
  },
  {
   "cell_type": "code",
   "execution_count": 32,
   "metadata": {},
   "outputs": [
    {
     "data": {
      "image/png": "[encoded data removed]",
      "text/plain": [
       "<Figure size 640x480 with 1 Axes>"
      ]
     },
     "metadata": {},
     "output_type": "display_data"
    }
   ],
   "source": [
    "fig, ax = plt.subplots()\n",
    "ax = sns.histplot(data=df, x='year', bins=50)\n",
    "ax.set_xlabel('Year')\n",
    "ax.set_ylabel('Books')\n",
    "ax.set_yscale('log')\n",
    "ax.set_title('Books by publication year')\n",
    "plt.show()"
   ]
  },
  {
   "attachments": {},
   "cell_type": "markdown",
   "metadata": {},
   "source": [
    "## Saving"
   ]
  },
  {
   "cell_type": "markdown",
   "metadata": {},
   "source": [
    "For now, _bookstores_ variable is just the list of bookstores that recommends that particular book. We can get the most from this variable using one hot encoding. "
   ]
  },
  {
   "cell_type": "code",
   "execution_count": 33,
   "metadata": {},
   "outputs": [],
   "source": [
    "df_one_hot = df['bookstores'].str.get_dummies(sep=', ')\n",
    "df.drop(columns='bookstores')\n",
    "df_one_hot.to_csv('../data/books-one-hot.csv', index=False)"
   ]
  },
  {
   "cell_type": "code",
   "execution_count": null,
   "metadata": {},
   "outputs": [],
   "source": [
    "df.to_csv('../data/bookdealer_recommendations_cleaned.csv')"
   ]
  }
 ],
 "metadata": {
  "kernelspec": {
   "display_name": ".venv",
   "language": "python",
   "name": "python3"
  },
  "language_info": {
   "codemirror_mode": {
    "name": "ipython",
    "version": 3
   },
   "file_extension": ".py",
   "mimetype": "text/x-python",
   "name": "python",
   "nbconvert_exporter": "python",
   "pygments_lexer": "ipython3",
   "version": "3.10.6"
  },
  "orig_nbformat": 4,
  "vscode": {
   "interpreter": {
    "hash": "5dd1fe8f35df2bedc29f3ca4c4f6d31cc89cfbf89cbf78f905445a3ef0d5bdfe"
   }
  }
 },
 "nbformat": 4,
 "nbformat_minor": 2
}
