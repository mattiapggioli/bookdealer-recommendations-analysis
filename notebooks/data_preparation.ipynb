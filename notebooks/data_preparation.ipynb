{
 "cells": [
  {
   "attachments": {},
   "cell_type": "markdown",
   "metadata": {},
   "source": [
    "# Data Preparation"
   ]
  },
  {
   "cell_type": "code",
   "execution_count": 1,
   "metadata": {},
   "outputs": [],
   "source": [
    "%matplotlib inline\n",
    "import pandas as pd\n",
    "import numpy as np\n",
    "from matplotlib import pyplot as plt\n",
    "import seaborn as sns"
   ]
  },
  {
   "cell_type": "code",
   "execution_count": 2,
   "metadata": {},
   "outputs": [],
   "source": [
    "pal = 'deep'\n",
    "st = 'whitegrid'\n",
    "fig_size = {'figure.figsize':(10, 8)}\n",
    "\n",
    "sns.set_theme(context='notebook',\n",
    "              style= st,\n",
    "              palette= pal,\n",
    "              font='sans-serif',\n",
    "              font_scale=1,\n",
    "              color_codes=True,\n",
    "              rc= fig_size)"
   ]
  },
  {
   "cell_type": "code",
   "execution_count": 3,
   "metadata": {},
   "outputs": [],
   "source": [
    "df = pd.read_csv('../data/bd-recommendations.csv')"
   ]
  },
  {
   "cell_type": "code",
   "execution_count": 4,
   "metadata": {},
   "outputs": [
    {
     "data": {
      "text/html": [
       "<div>\n",
       "<style scoped>\n",
       "    .dataframe tbody tr th:only-of-type {\n",
       "        vertical-align: middle;\n",
       "    }\n",
       "\n",
       "    .dataframe tbody tr th {\n",
       "        vertical-align: top;\n",
       "    }\n",
       "\n",
       "    .dataframe thead th {\n",
       "        text-align: right;\n",
       "    }\n",
       "</style>\n",
       "<table border=\"1\" class=\"dataframe\">\n",
       "  <thead>\n",
       "    <tr style=\"text-align: right;\">\n",
       "      <th></th>\n",
       "      <th>title</th>\n",
       "      <th>price</th>\n",
       "      <th>author</th>\n",
       "      <th>publisher</th>\n",
       "      <th>isbn</th>\n",
       "      <th>category</th>\n",
       "      <th>translator</th>\n",
       "      <th>pages</th>\n",
       "      <th>date</th>\n",
       "      <th>series</th>\n",
       "      <th>recommendations</th>\n",
       "      <th>bookstores</th>\n",
       "      <th>synopsis</th>\n",
       "    </tr>\n",
       "  </thead>\n",
       "  <tbody>\n",
       "    <tr>\n",
       "      <th>0</th>\n",
       "      <td>Cambiare l'acqua ai fiori</td>\n",
       "      <td>18</td>\n",
       "      <td>Perrin Valérie</td>\n",
       "      <td>E/O</td>\n",
       "      <td>9788833570990</td>\n",
       "      <td>Letterature straniere: testi</td>\n",
       "      <td>Bracci Testasecca A.</td>\n",
       "      <td>476</td>\n",
       "      <td>10/07/2019</td>\n",
       "      <td>Dal mondo</td>\n",
       "      <td>63.0</td>\n",
       "      <td>81/libreria-tasso, 60/a-tutto-libro, 55/libris...</td>\n",
       "      <td>\\nTab Article\\nViolette Toussaint è guardiana ...</td>\n",
       "    </tr>\n",
       "    <tr>\n",
       "      <th>1</th>\n",
       "      <td>Ragazza, donna, altro</td>\n",
       "      <td>20</td>\n",
       "      <td>Evaristo Bernardine</td>\n",
       "      <td>Sur</td>\n",
       "      <td>9788869982279</td>\n",
       "      <td>Letterature straniere: testi</td>\n",
       "      <td>Testa M.</td>\n",
       "      <td>520</td>\n",
       "      <td>11/11/2020</td>\n",
       "      <td>BigSur</td>\n",
       "      <td>61.0</td>\n",
       "      <td>39/la-confraternita-delluva-libreria-indipende...</td>\n",
       "      <td>\\nTab Article\\nÈ una grande serata per Amma: u...</td>\n",
       "    </tr>\n",
       "    <tr>\n",
       "      <th>2</th>\n",
       "      <td>L'Ickabog</td>\n",
       "      <td>19</td>\n",
       "      <td>Rowling J. K.</td>\n",
       "      <td>Salani</td>\n",
       "      <td>9788831006705</td>\n",
       "      <td>Letteratura per ragazzi</td>\n",
       "      <td>Daniele V.</td>\n",
       "      <td>320</td>\n",
       "      <td>10/11/2020</td>\n",
       "      <td>NaN</td>\n",
       "      <td>44.0</td>\n",
       "      <td>168/magia-del-fumetto, 486/lotta-libreria, 306...</td>\n",
       "      <td>\\nTab Article\\nC'era una volta un regno chiama...</td>\n",
       "    </tr>\n",
       "    <tr>\n",
       "      <th>3</th>\n",
       "      <td>Borgo Sud</td>\n",
       "      <td>18</td>\n",
       "      <td>Di Pietrantonio Donatella</td>\n",
       "      <td>Einaudi</td>\n",
       "      <td>9788806244781</td>\n",
       "      <td>Letteratura italiana: testi</td>\n",
       "      <td>NaN</td>\n",
       "      <td>168</td>\n",
       "      <td>03/11/2020</td>\n",
       "      <td>Supercoralli</td>\n",
       "      <td>36.0</td>\n",
       "      <td>285/libreria-fogola-pisa, 512/libreria-di-donn...</td>\n",
       "      <td>\\nTab Article\\nÈ il momento più buio della not...</td>\n",
       "    </tr>\n",
       "    <tr>\n",
       "      <th>4</th>\n",
       "      <td>Dante</td>\n",
       "      <td>20</td>\n",
       "      <td>Barbero Alessandro</td>\n",
       "      <td>Laterza</td>\n",
       "      <td>9788858141649</td>\n",
       "      <td>Letteratura italiana: critica</td>\n",
       "      <td>NaN</td>\n",
       "      <td>361</td>\n",
       "      <td>08/10/2020</td>\n",
       "      <td>I Robinson</td>\n",
       "      <td>36.0</td>\n",
       "      <td>51/il-ponte-sulla-dora, 116/lettera22, 433/lib...</td>\n",
       "      <td>\\nTab Article\\nDante è l'uomo su cui, per la f...</td>\n",
       "    </tr>\n",
       "  </tbody>\n",
       "</table>\n",
       "</div>"
      ],
      "text/plain": [
       "                       title  price                     author publisher  \\\n",
       "0  Cambiare l'acqua ai fiori     18             Perrin Valérie       E/O   \n",
       "1      Ragazza, donna, altro     20        Evaristo Bernardine       Sur   \n",
       "2                  L'Ickabog     19              Rowling J. K.    Salani   \n",
       "3                  Borgo Sud     18  Di Pietrantonio Donatella   Einaudi   \n",
       "4                      Dante     20         Barbero Alessandro   Laterza   \n",
       "\n",
       "            isbn                       category            translator pages  \\\n",
       "0  9788833570990   Letterature straniere: testi  Bracci Testasecca A.   476   \n",
       "1  9788869982279   Letterature straniere: testi              Testa M.   520   \n",
       "2  9788831006705        Letteratura per ragazzi            Daniele V.   320   \n",
       "3  9788806244781    Letteratura italiana: testi                   NaN   168   \n",
       "4  9788858141649  Letteratura italiana: critica                   NaN   361   \n",
       "\n",
       "         date        series  recommendations  \\\n",
       "0  10/07/2019     Dal mondo             63.0   \n",
       "1  11/11/2020        BigSur             61.0   \n",
       "2  10/11/2020           NaN             44.0   \n",
       "3  03/11/2020  Supercoralli             36.0   \n",
       "4  08/10/2020    I Robinson             36.0   \n",
       "\n",
       "                                          bookstores  \\\n",
       "0  81/libreria-tasso, 60/a-tutto-libro, 55/libris...   \n",
       "1  39/la-confraternita-delluva-libreria-indipende...   \n",
       "2  168/magia-del-fumetto, 486/lotta-libreria, 306...   \n",
       "3  285/libreria-fogola-pisa, 512/libreria-di-donn...   \n",
       "4  51/il-ponte-sulla-dora, 116/lettera22, 433/lib...   \n",
       "\n",
       "                                            synopsis  \n",
       "0  \\nTab Article\\nViolette Toussaint è guardiana ...  \n",
       "1  \\nTab Article\\nÈ una grande serata per Amma: u...  \n",
       "2  \\nTab Article\\nC'era una volta un regno chiama...  \n",
       "3  \\nTab Article\\nÈ il momento più buio della not...  \n",
       "4  \\nTab Article\\nDante è l'uomo su cui, per la f...  "
      ]
     },
     "execution_count": 4,
     "metadata": {},
     "output_type": "execute_result"
    }
   ],
   "source": [
    "df.head()"
   ]
  },
  {
   "cell_type": "code",
   "execution_count": 5,
   "metadata": {},
   "outputs": [
    {
     "name": "stdout",
     "output_type": "stream",
     "text": [
      "<class 'pandas.core.frame.DataFrame'>\n",
      "RangeIndex: 21014 entries, 0 to 21013\n",
      "Data columns (total 13 columns):\n",
      " #   Column           Non-Null Count  Dtype  \n",
      "---  ------           --------------  -----  \n",
      " 0   title            21014 non-null  object \n",
      " 1   price            21014 non-null  int64  \n",
      " 2   author           19732 non-null  object \n",
      " 3   publisher        21014 non-null  object \n",
      " 4   isbn             21014 non-null  int64  \n",
      " 5   category         20995 non-null  object \n",
      " 6   translator       7648 non-null   object \n",
      " 7   pages            20021 non-null  object \n",
      " 8   date             21014 non-null  object \n",
      " 9   series           16087 non-null  object \n",
      " 10  recommendations  20905 non-null  float64\n",
      " 11  bookstores       20905 non-null  object \n",
      " 12  synopsis         20061 non-null  object \n",
      "dtypes: float64(1), int64(2), object(10)\n",
      "memory usage: 2.1+ MB\n"
     ]
    }
   ],
   "source": [
    "df.info()"
   ]
  },
  {
   "attachments": {},
   "cell_type": "markdown",
   "metadata": {},
   "source": [
    "## Missing Values"
   ]
  },
  {
   "cell_type": "code",
   "execution_count": 6,
   "metadata": {},
   "outputs": [
    {
     "data": {
      "text/plain": [
       "title                  0\n",
       "price                  0\n",
       "author              1282\n",
       "publisher              0\n",
       "isbn                   0\n",
       "category              19\n",
       "translator         13366\n",
       "pages                993\n",
       "date                   0\n",
       "series              4927\n",
       "recommendations      109\n",
       "bookstores           109\n",
       "synopsis             953\n",
       "dtype: int64"
      ]
     },
     "execution_count": 6,
     "metadata": {},
     "output_type": "execute_result"
    }
   ],
   "source": [
    "df.isna().sum()"
   ]
  },
  {
   "cell_type": "code",
   "execution_count": 7,
   "metadata": {},
   "outputs": [],
   "source": [
    "df.drop(columns=['author','title','translator','series'], inplace=True)"
   ]
  },
  {
   "cell_type": "code",
   "execution_count": 8,
   "metadata": {},
   "outputs": [],
   "source": [
    "df.dropna(subset=['category', 'bookstores', 'recommendations', 'synopsis'], inplace=True)"
   ]
  },
  {
   "cell_type": "code",
   "execution_count": 9,
   "metadata": {},
   "outputs": [],
   "source": [
    "df['pages'] = pd.to_numeric(df['pages'],errors='coerce')\n",
    "df.fillna({'pages': df['pages'].median()}, inplace=True)"
   ]
  }
 ],
 "metadata": {
  "kernelspec": {
   "display_name": ".venv",
   "language": "python",
   "name": "python3"
  },
  "language_info": {
   "codemirror_mode": {
    "name": "ipython",
    "version": 3
   },
   "file_extension": ".py",
   "mimetype": "text/x-python",
   "name": "python",
   "nbconvert_exporter": "python",
   "pygments_lexer": "ipython3",
   "version": "3.10.6"
  },
  "orig_nbformat": 4,
  "vscode": {
   "interpreter": {
    "hash": "27397f66a8f3e763b64b845e8bc770c15693cb7250ff7efda37093fea29f4647"
   }
  }
 },
 "nbformat": 4,
 "nbformat_minor": 2
}
